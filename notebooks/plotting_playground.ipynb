{
 "cells": [
  {
   "cell_type": "code",
   "execution_count": 33,
   "metadata": {},
   "outputs": [],
   "source": [
    "import matplotlib.pyplot as plt\n",
    "from scipy.stats import gaussian_kde as kde\n",
    "import jax.numpy as jnp\n",
    "import pickle as pkl"
   ]
  },
  {
   "cell_type": "code",
   "execution_count": 44,
   "metadata": {},
   "outputs": [],
   "source": [
    "def plot_posteriors(dirpath, true_samples, npe_samples):\n",
    "    for i in range(10):  # TODO: magic number\n",
    "        xs = jnp.linspace(-5, 5, 1000)\n",
    "        true_kde = kde(true_samples[:, i])\n",
    "        npe_kde = kde(npe_samples[:, i])\n",
    "\n",
    "        plt.plot(xs, true_kde(xs), label='True posterior')\n",
    "        plt.plot(xs, npe_kde(xs), label='NPE posterior')\n",
    "        plt.legend()\n",
    "        # plt.show()\n",
    "        plt.savefig(f'../res/{dirpath}/param_{i}_posterior.png')\n",
    "        plt.close()\n",
    "\n",
    "    return None"
   ]
  },
  {
   "cell_type": "code",
   "execution_count": 46,
   "metadata": {},
   "outputs": [
    {
     "name": "stdout",
     "output_type": "stream",
     "text": [
      "gauss_npe_n_obs_500_n_sims_500\n",
      "gauss_npe_n_obs_500_n_sims_250000\n",
      "gauss_npe_n_obs_1000_n_sims_1000\n",
      "gauss_npe_n_obs_100_n_sims_460\n",
      "gauss_npe_n_obs_100_n_sims_1000\n",
      "gauss_npe_n_obs_1000_n_sims_31622\n",
      "gauss_npe_n_obs_500_n_sims_11180\n",
      "gauss_npe_n_obs_500_n_sims_3107\n",
      "gauss_npe_n_obs_1000_n_sims_1000000\n",
      "[Errno 2] No such file or directory: '../res/gauss_npe_n_obs_1000_n_sims_1000000/true_posterior_samples.pkl'\n",
      "gauss_npe_n_obs_1000_n_sims_6907\n",
      "gauss_npe_n_obs_100_n_sims_100\n",
      "[Errno 2] No such file or directory: '../res/gauss_npe_n_obs_100_n_sims_100/true_posterior_samples.pkl'\n",
      "gauss_npe_n_obs_100_n_sims_10000\n",
      "gauss_npe_n_obs_5000_n_sims_25000000\n",
      "[Errno 2] No such file or directory: '../res/gauss_npe_n_obs_5000_n_sims_25000000/true_posterior_samples.pkl'\n"
     ]
    }
   ],
   "source": [
    "import os\n",
    "\n",
    "folder_names = [folder for folder in os.listdir(\"../res\") if os.path.isdir(os.path.join(\"../res\", folder))]\n",
    "for folder_name in folder_names:\n",
    "    print(folder_name)\n",
    "    try:\n",
    "        with open(f\"../res/{folder_name}/true_posterior_samples.pkl\", \"rb\") as f:\n",
    "            true_posterior_samples = pkl.load(f)\n",
    "            true_posterior_samples = jnp.array(true_posterior_samples)\n",
    "\n",
    "        with open(f\"../res/{folder_name}/posterior_samples.pkl\", \"rb\") as f:\n",
    "            posterior_samples = pkl.load(f)\n",
    "            posterior_samples = jnp.array(posterior_samples)\n",
    "\n",
    "        plot_posteriors(folder_name, true_posterior_samples, posterior_samples)\n",
    "    except Exception as e:\n",
    "        print(e)\n",
    "        continue"
   ]
  },
  {
   "cell_type": "code",
   "execution_count": null,
   "metadata": {},
   "outputs": [],
   "source": []
  }
 ],
 "metadata": {
  "kernelspec": {
   "display_name": ".venv",
   "language": "python",
   "name": "python3"
  },
  "language_info": {
   "codemirror_mode": {
    "name": "ipython",
    "version": 3
   },
   "file_extension": ".py",
   "mimetype": "text/x-python",
   "name": "python",
   "nbconvert_exporter": "python",
   "pygments_lexer": "ipython3",
   "version": "3.11.5"
  }
 },
 "nbformat": 4,
 "nbformat_minor": 2
}
