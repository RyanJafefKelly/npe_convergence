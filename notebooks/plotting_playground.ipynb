{
 "cells": [
  {
   "cell_type": "code",
   "execution_count": 2,
   "metadata": {},
   "outputs": [],
   "source": [
    "import matplotlib.pyplot as plt\n",
    "from scipy.stats import gaussian_kde as kde\n",
    "import jax.numpy as jnp\n",
    "import pickle as pkl"
   ]
  },
  {
   "cell_type": "code",
   "execution_count": 44,
   "metadata": {},
   "outputs": [],
   "source": [
    "def plot_posteriors(dirpath, true_samples, npe_samples):\n",
    "    for i in range(10):  # TODO: magic number\n",
    "        xs = jnp.linspace(-5, 5, 1000)\n",
    "        true_kde = kde(true_samples[:, i])\n",
    "        npe_kde = kde(npe_samples[:, i])\n",
    "\n",
    "        plt.plot(xs, true_kde(xs), label='True posterior')\n",
    "        plt.plot(xs, npe_kde(xs), label='NPE posterior')\n",
    "        plt.legend()\n",
    "        # plt.show()\n",
    "        plt.savefig(f'../res/{dirpath}/param_{i}_posterior.png')\n",
    "        plt.close()\n",
    "\n",
    "    return None"
   ]
  },
  {
   "cell_type": "code",
   "execution_count": 46,
   "metadata": {},
   "outputs": [
    {
     "name": "stdout",
     "output_type": "stream",
     "text": [
      "gauss_npe_n_obs_500_n_sims_500\n",
      "gauss_npe_n_obs_500_n_sims_250000\n",
      "gauss_npe_n_obs_1000_n_sims_1000\n",
      "gauss_npe_n_obs_100_n_sims_460\n",
      "gauss_npe_n_obs_100_n_sims_1000\n",
      "gauss_npe_n_obs_1000_n_sims_31622\n",
      "gauss_npe_n_obs_500_n_sims_11180\n",
      "gauss_npe_n_obs_500_n_sims_3107\n",
      "gauss_npe_n_obs_1000_n_sims_1000000\n",
      "[Errno 2] No such file or directory: '../res/gauss_npe_n_obs_1000_n_sims_1000000/true_posterior_samples.pkl'\n",
      "gauss_npe_n_obs_1000_n_sims_6907\n",
      "gauss_npe_n_obs_100_n_sims_100\n",
      "[Errno 2] No such file or directory: '../res/gauss_npe_n_obs_100_n_sims_100/true_posterior_samples.pkl'\n",
      "gauss_npe_n_obs_100_n_sims_10000\n",
      "gauss_npe_n_obs_5000_n_sims_25000000\n",
      "[Errno 2] No such file or directory: '../res/gauss_npe_n_obs_5000_n_sims_25000000/true_posterior_samples.pkl'\n"
     ]
    }
   ],
   "source": [
    "import os\n",
    "\n",
    "folder_names = [folder for folder in os.listdir(\"../res\") if os.path.isdir(os.path.join(\"../res\", folder))]\n",
    "for folder_name in folder_names:\n",
    "    print(folder_name)\n",
    "    try:\n",
    "        with open(f\"../res/{folder_name}/true_posterior_samples.pkl\", \"rb\") as f:\n",
    "            true_posterior_samples = pkl.load(f)\n",
    "            true_posterior_samples = jnp.array(true_posterior_samples)\n",
    "\n",
    "        with open(f\"../res/{folder_name}/posterior_samples.pkl\", \"rb\") as f:\n",
    "            posterior_samples = pkl.load(f)\n",
    "            posterior_samples = jnp.array(posterior_samples)\n",
    "\n",
    "        plot_posteriors(folder_name, true_posterior_samples, posterior_samples)\n",
    "    except Exception as e:\n",
    "        print(e)\n",
    "        continue"
   ]
  },
  {
   "cell_type": "code",
   "execution_count": 20,
   "metadata": {},
   "outputs": [],
   "source": [
    "# TODO: plot for each num_obs, different simulations, and exact, and SMC for reference for n=1000\n",
    "exact_posterior_samples = pkl.load(open(\"../res/gnk/npe_n_obs_1000_n_sims_1000_seed_0/true_posterior_samples.pkl\", \"rb\"))\n",
    "npe_nsim_n_posterior_samples = pkl.load(open(\"../res/gnk/npe_n_obs_1000_n_sims_1000_seed_0/posterior_samples.pkl\", \"rb\"))\n",
    "npe_nsim_nlogn_posterior_samples = pkl.load(open(\"../res/gnk/npe_n_obs_1000_n_sims_6907_seed_0/posterior_samples.pkl\", \"rb\"))\n",
    "npe_nsim_n32_posterior_samples = pkl.load(open(\"../res/gnk/npe_n_obs_1000_n_sims_31622_seed_0/posterior_samples.pkl\", \"rb\"))\n",
    "# npe_nsim_n_posterior_samples = pkl.load(open(\"../res/gnk/npe_n_obs_1000_n_sims_1000000_seed_0/posterior_samples.pkl\", \"rb\"))\n",
    "smc_posterior_samples = pkl.load(open(\"../res/gnk_smc_abc/npe_n_obs_1000_seed_0/adaptive_smc_samples.pkl\", \"rb\"))\n"
   ]
  },
  {
   "cell_type": "code",
   "execution_count": 25,
   "metadata": {},
   "outputs": [
    {
     "data": {
      "text/plain": [
       "Array(2.9192483, dtype=float32)"
      ]
     },
     "execution_count": 25,
     "metadata": {},
     "output_type": "execute_result"
    }
   ],
   "source": [
    "jnp.min(exact_posterior_samples[:, 0])"
   ]
  },
  {
   "cell_type": "code",
   "execution_count": 28,
   "metadata": {},
   "outputs": [
    {
     "data": {
      "text/plain": [
       "<Figure size 640x480 with 0 Axes>"
      ]
     },
     "metadata": {},
     "output_type": "display_data"
    }
   ],
   "source": [
    "params = ['A', 'B', 'g', 'k']\n",
    "for ii, param_name in enumerate(params):\n",
    "    _, bins, _ = plt.hist(npe_nsim_n32_posterior_samples[:, ii], bins=50, alpha=0.5, label=\"NPE 31622\")\n",
    "    plt.hist(npe_nsim_nlogn_posterior_samples[:, ii], bins=bins, alpha=0.5, label=\"NPE 6907\")\n",
    "    plt.hist(npe_nsim_n_posterior_samples[:, ii], bins=bins, alpha=0.5, label=\"NPE 1000\")\n",
    "    plt.hist(smc_posterior_samples[:, ii], bins=bins, alpha=0.5, label=\"SMC\")\n",
    "    plt.hist(exact_posterior_samples[:, ii], bins=bins, alpha=0.5, label=\"Exact\")\n",
    "    plt.legend()\n",
    "    plt.title(f\"{param_name}\")\n",
    "    plt.savefig(f\"{param_name}_posterior_n_obs_1000.pdf\")\n",
    "    plt.clf()"
   ]
  },
  {
   "cell_type": "code",
   "execution_count": 32,
   "metadata": {},
   "outputs": [
    {
     "data": {
      "text/plain": [
       "<Figure size 640x480 with 0 Axes>"
      ]
     },
     "metadata": {},
     "output_type": "display_data"
    }
   ],
   "source": [
    "# TODO: could show exact for each num_obs, show how it is concentrating\n",
    "n_obs = [100, 500, 1000, 5000, 10000]\n",
    "for i in range(4):\n",
    "    bins = None\n",
    "    for num_obs in n_obs:\n",
    "        exact_posterior_samples = pkl.load(open(f\"../res/gnk/npe_n_obs_{num_obs}_n_sims_{num_obs}_seed_0/true_posterior_samples.pkl\", \"rb\"))\n",
    "        if bins is None:\n",
    "            _, bins, _ = plt.hist(exact_posterior_samples[:, i], bins=50, alpha=0.5, label=f\"Exact num obs: {num_obs}\")\n",
    "        else:\n",
    "            plt.hist(exact_posterior_samples[:, i], bins=bins, alpha=0.5, label=f\"Exact num obs: {num_obs}\")\n",
    "    plt.legend()\n",
    "    plt.title(f\"{params[i]}\")\n",
    "    plt.savefig(f\"{params[i]}_posterior_exact_sampling.pdf\")\n",
    "    plt.clf()"
   ]
  }
 ],
 "metadata": {
  "kernelspec": {
   "display_name": ".venv",
   "language": "python",
   "name": "python3"
  },
  "language_info": {
   "codemirror_mode": {
    "name": "ipython",
    "version": 3
   },
   "file_extension": ".py",
   "mimetype": "text/x-python",
   "name": "python",
   "nbconvert_exporter": "python",
   "pygments_lexer": "ipython3",
   "version": "3.11.5"
  }
 },
 "nbformat": 4,
 "nbformat_minor": 2
}
