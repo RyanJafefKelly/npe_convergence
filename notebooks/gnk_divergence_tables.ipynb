{
 "cells": [
  {
   "cell_type": "code",
   "execution_count": 1,
   "metadata": {},
   "outputs": [],
   "source": [
    "import matplotlib.pyplot as plt\n",
    "import pickle as pkl\n",
    "from scipy.stats import gaussian_kde\n",
    "import numpy as np\n",
    "import math\n",
    "import os"
   ]
  },
  {
   "cell_type": "code",
   "execution_count": 2,
   "metadata": {},
   "outputs": [
    {
     "name": "stdout",
     "output_type": "stream",
     "text": [
      "\\begin{tabular}{|c|c|c|c|c|}\n",
      "\\hline\n",
      "n (num obs) & N=n & N=nlog(n) & N=n^(3/2) & N=n^2 \\\\ \n",
      "\\hline\n",
      "100  & 9.48/10.29 (1.61) [5] & 8.48/9.23 (1.57) [5] & 6.44/6.29 (0.85) [5] & 4.48/4.28 (0.60) [5] \\\\ \n",
      "\\hline\n",
      "500  & 9.64/9.41 (0.92) [21] & 6.78/6.85 (0.74) [21] & 4.89/4.89 (0.67) [21] & 2.90/2.91 (0.45) [21] \\\\ \n",
      "\\hline\n",
      "1000  & 9.21/8.94 (1.12) [21] & 6.26/6.16 (0.85) [21] & 4.37/4.29 (0.46) [21] & 2.78/2.73 (0.71) [21] \\\\ \n",
      "\\hline\n",
      "5000  & 8.95/8.68 (1.13) [21] & 5.66/5.61 (0.55) [21] & 3.97/3.93 (0.43) [21] & 2.47/2.36 (0.50) [20] \\\\ \n",
      "\\hline\n",
      "\\end{tabular}\n"
     ]
    }
   ],
   "source": [
    "\n",
    "base_dir = \"../res/gnk/\"\n",
    "\n",
    "observations = [100, 500, 1000, 5000]\n",
    "\n",
    "simulation_functions = [\n",
    "    lambda n: n,\n",
    "    lambda n: int(n * math.log(n)),\n",
    "    lambda n: int(n ** (3/2)),\n",
    "    lambda n: n ** 2\n",
    "]\n",
    "\n",
    "num_seeds = 21\n",
    "\n",
    "# LaTeX table header\n",
    "latex_table = \"\\\\begin{tabular}{|c|c|c|c|c|}\\n\\\\hline\\n\"\n",
    "latex_table += \"n (num obs) & N=n & N=nlog(n) & N=n^(3/2) & N=n^2 \\\\\\\\ \\n\\\\hline\\n\"\n",
    "\n",
    "# Process each observation level\n",
    "for n_obs in observations:\n",
    "    latex_table += f\"{n_obs} \"\n",
    "    for sim_func in simulation_functions:\n",
    "        n_sims = sim_func(n_obs)\n",
    "        kl_values = []\n",
    "        # Directory for this configuration\n",
    "        for i in range(num_seeds):\n",
    "            dir_path = os.path.join(base_dir, f\"npe_n_obs_{n_obs}_n_sims_{n_sims}_seed_{str(i)}/\")\n",
    "            if os.path.exists(dir_path):\n",
    "                full_path = os.path.join(dir_path, \"kl.txt\")\n",
    "                if os.path.isfile(full_path):\n",
    "                    with open(full_path, 'r') as file:\n",
    "                        try:\n",
    "                            kl_value = float(file.read().strip())\n",
    "                            kl_values.append(kl_value)\n",
    "                        except ValueError:\n",
    "                            continue\n",
    "\n",
    "        # Calculate mean and standard deviation if data is available\n",
    "        masked_kl_values = np.ma.masked_invalid(kl_values)\n",
    "        num_valid = np.isfinite(kl_values).sum()\n",
    "        if num_valid > 0:\n",
    "            mean_kl = masked_kl_values.mean()\n",
    "            median_kl = np.ma.median(masked_kl_values)\n",
    "            std_dev_kl = masked_kl_values.std() if num_valid > 1 else 0\n",
    "            latex_table += f\" & {mean_kl:.2f}/{median_kl:.2f} ({std_dev_kl:.2f}) [{num_valid}]\"\n",
    "        else:\n",
    "            latex_table += \" & -\"\n",
    "    latex_table += \" \\\\\\\\ \\n\\\\hline\\n\"\n",
    "\n",
    "# Close the table\n",
    "latex_table += \"\\\\end{tabular}\"\n",
    "\n",
    "# Print the LaTeX table string\n",
    "print(latex_table)\n"
   ]
  }
 ],
 "metadata": {
  "kernelspec": {
   "display_name": ".venv",
   "language": "python",
   "name": "python3"
  },
  "language_info": {
   "codemirror_mode": {
    "name": "ipython",
    "version": 3
   },
   "file_extension": ".py",
   "mimetype": "text/x-python",
   "name": "python",
   "nbconvert_exporter": "python",
   "pygments_lexer": "ipython3",
   "version": "3.11.5"
  }
 },
 "nbformat": 4,
 "nbformat_minor": 2
}
