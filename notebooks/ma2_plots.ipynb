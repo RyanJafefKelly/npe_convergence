{
 "cells": [
  {
   "cell_type": "code",
   "execution_count": 1,
   "metadata": {},
   "outputs": [],
   "source": [
    "import matplotlib.pyplot as plt\n",
    "import pickle as pkl\n",
    "from scipy.stats import gaussian_kde\n",
    "import numpy as np\n",
    "import math\n",
    "import os"
   ]
  },
  {
   "cell_type": "markdown",
   "metadata": {},
   "source": [
    "## KL - incompatibility"
   ]
  },
  {
   "cell_type": "code",
   "execution_count": 2,
   "metadata": {},
   "outputs": [
    {
     "name": "stdout",
     "output_type": "stream",
     "text": [
      "[Errno 2] No such file or directory: '../res/ma2_b0/npe_n_obs_1000_n_sims_31622_seed_19/kl_0.01.txt'\n",
      "[Errno 2] No such file or directory: '../res/ma2_b0/npe_n_obs_1000_n_sims_1000000_seed_3/kl_0.01.txt'\n",
      "[Errno 2] No such file or directory: '../res/ma2_b0/npe_n_obs_1000_n_sims_1000000_seed_15/kl_0.01.txt'\n",
      "[Errno 2] No such file or directory: '../res/ma2_b0/npe_n_obs_1000_n_sims_1000000_seed_17/kl_0.01.txt'\n",
      "[Errno 2] No such file or directory: '../res/ma2_b0/npe_n_obs_1000_n_sims_1000000_seed_20/kl_0.01.txt'\n",
      "[Errno 2] No such file or directory: '../res/ma2_b0/npe_n_obs_1000_n_sims_1000000_seed_31/kl_0.01.txt'\n",
      "[Errno 2] No such file or directory: '../res/ma2_b0/npe_n_obs_1000_n_sims_1000000_seed_36/kl_0.01.txt'\n",
      "[Errno 2] No such file or directory: '../res/ma2_b0/npe_n_obs_1000_n_sims_1000000_seed_38/kl_0.01.txt'\n",
      "[Errno 2] No such file or directory: '../res/ma2_b0/npe_n_obs_1000_n_sims_1000000_seed_39/kl_0.01.txt'\n",
      "[Errno 2] No such file or directory: '../res/ma2_b0/npe_n_obs_1000_n_sims_1000000_seed_41/kl_0.01.txt'\n",
      "[Errno 2] No such file or directory: '../res/ma2_b0/npe_n_obs_1000_n_sims_1000000_seed_55/kl_0.01.txt'\n",
      "[Errno 2] No such file or directory: '../res/ma2_b0/npe_n_obs_1000_n_sims_1000000_seed_57/kl_0.01.txt'\n",
      "[Errno 2] No such file or directory: '../res/ma2_b0/npe_n_obs_1000_n_sims_1000000_seed_61/kl_0.01.txt'\n",
      "[Errno 2] No such file or directory: '../res/ma2_b0/npe_n_obs_1000_n_sims_1000000_seed_74/kl_0.01.txt'\n",
      "[Errno 2] No such file or directory: '../res/ma2_b0/npe_n_obs_1000_n_sims_1000000_seed_83/kl_0.01.txt'\n",
      "[Errno 2] No such file or directory: '../res/ma2_b0/npe_n_obs_1000_n_sims_1000000_seed_88/kl_0.01.txt'\n",
      "[Errno 2] No such file or directory: '../res/ma2_b0/npe_n_obs_1000_n_sims_1000000_seed_90/kl_0.01.txt'\n",
      "[Errno 2] No such file or directory: '../res/ma2_b0/npe_n_obs_1000_n_sims_1000000_seed_93/kl_0.01.txt'\n",
      "[Errno 2] No such file or directory: '../res/ma2_b0/npe_n_obs_1000_n_sims_1000000_seed_95/kl_0.01.txt'\n",
      "[Errno 2] No such file or directory: '../res/ma2_b0/npe_n_obs_1000_n_sims_1000000_seed_98/kl_0.01.txt'\n",
      "[Errno 2] No such file or directory: '../res/ma2_b0/npe_n_obs_1000_n_sims_1000000_seed_99/kl_0.01.txt'\n",
      "[Errno 2] No such file or directory: '../res/ma2_b0/npe_n_obs_1000_n_sims_1000000_seed_100/kl_0.01.txt'\n"
     ]
    },
    {
     "ename": "NameError",
     "evalue": "name 'plt' is not defined",
     "output_type": "error",
     "traceback": [
      "\u001b[0;31m---------------------------------------------------------------------------\u001b[0m",
      "\u001b[0;31mNameError\u001b[0m                                 Traceback (most recent call last)",
      "Cell \u001b[0;32mIn[2], line 27\u001b[0m\n\u001b[1;32m     25\u001b[0m     labels\u001b[38;5;241m.\u001b[39mappend(n_sims_label[ii])\n\u001b[1;32m     26\u001b[0m     all_kl\u001b[38;5;241m.\u001b[39mappend(kls)\n\u001b[0;32m---> 27\u001b[0m \u001b[43mplt\u001b[49m\u001b[38;5;241m.\u001b[39mfigure(figsize\u001b[38;5;241m=\u001b[39m(\u001b[38;5;241m10\u001b[39m, \u001b[38;5;241m6\u001b[39m))\n\u001b[1;32m     28\u001b[0m plt\u001b[38;5;241m.\u001b[39mboxplot(all_kl, labels\u001b[38;5;241m=\u001b[39mlabels, patch_artist\u001b[38;5;241m=\u001b[39m\u001b[38;5;28;01mTrue\u001b[39;00m,\n\u001b[1;32m     29\u001b[0m             boxprops\u001b[38;5;241m=\u001b[39m\u001b[38;5;28mdict\u001b[39m(facecolor\u001b[38;5;241m=\u001b[39m\u001b[38;5;124m'\u001b[39m\u001b[38;5;124mlightblue\u001b[39m\u001b[38;5;124m'\u001b[39m, color\u001b[38;5;241m=\u001b[39m\u001b[38;5;124m'\u001b[39m\u001b[38;5;124mblue\u001b[39m\u001b[38;5;124m'\u001b[39m),\n\u001b[1;32m     30\u001b[0m             medianprops\u001b[38;5;241m=\u001b[39m\u001b[38;5;28mdict\u001b[39m(color\u001b[38;5;241m=\u001b[39m\u001b[38;5;124m'\u001b[39m\u001b[38;5;124mred\u001b[39m\u001b[38;5;124m'\u001b[39m, linewidth\u001b[38;5;241m=\u001b[39m\u001b[38;5;241m2\u001b[39m),\n\u001b[1;32m     31\u001b[0m             whiskerprops\u001b[38;5;241m=\u001b[39m\u001b[38;5;28mdict\u001b[39m(color\u001b[38;5;241m=\u001b[39m\u001b[38;5;124m'\u001b[39m\u001b[38;5;124mblue\u001b[39m\u001b[38;5;124m'\u001b[39m), capprops\u001b[38;5;241m=\u001b[39m\u001b[38;5;28mdict\u001b[39m(color\u001b[38;5;241m=\u001b[39m\u001b[38;5;124m'\u001b[39m\u001b[38;5;124mblue\u001b[39m\u001b[38;5;124m'\u001b[39m))\n\u001b[1;32m     32\u001b[0m \u001b[38;5;66;03m# plt.title(f'Boxplot of Mean Biases for $n_{{\\text{{obs}}}}={n_obs}$', fontsize=16)\u001b[39;00m\n",
      "\u001b[0;31mNameError\u001b[0m: name 'plt' is not defined"
     ]
    }
   ],
   "source": [
    "# os.listdir('../res/ma2_b0/')\n",
    "n_sims_label = [r'$n$', r'$n \\log(n)$', r'$n^{3/2}$', r'$n^2$']\n",
    "dirnames = ['npe_n_obs_1000_n_sims_1000',\n",
    "            'npe_n_obs_1000_n_sims_6907',\n",
    "            'npe_n_obs_1000_n_sims_31622',\n",
    "            'npe_n_obs_1000_n_sims_1000000']\n",
    "\n",
    "num_seeds = 101\n",
    "linestyles = [\"solid\", \"dotted\", \"dashed\", \"dashdot\"]\n",
    "\n",
    "b_0_0s = [0.01, 0.1, 0.99]\n",
    "for b_0 in b_0_0s:\n",
    "    all_kl = []\n",
    "    labels = []\n",
    "    for ii, dir_name in enumerate(dirnames):\n",
    "        kls = []\n",
    "        for seed_i in range(num_seeds):\n",
    "            try:\n",
    "                with open(f'../res/ma2_b0/{dir_name}_seed_{str(seed_i)}/kl_{str(b_0)}.txt', 'rb') as f:\n",
    "                    kl = f.read()\n",
    "                    kls.append(float(kl))\n",
    "            except FileNotFoundError as e:\n",
    "                print(e)\n",
    "                continue\n",
    "        labels.append(n_sims_label[ii])\n",
    "        all_kl.append(kls)\n",
    "    plt.figure(figsize=(10, 6))\n",
    "    plt.boxplot(all_kl, labels=labels, patch_artist=True,\n",
    "                boxprops=dict(facecolor='lightblue', color='blue'),\n",
    "                medianprops=dict(color='red', linewidth=2),\n",
    "                whiskerprops=dict(color='blue'), capprops=dict(color='blue'))\n",
    "    # plt.title(f'Boxplot of Mean Biases for $n_{{\\text{{obs}}}}={n_obs}$', fontsize=16)\n",
    "    plt.xlabel('Number of Simulations', fontsize=24)\n",
    "    plt.ylabel('Estimated KL', fontsize=24)\n",
    "    # plt.axhline(y=0, color='red', linestyle='dashed', linewidth=1.5)\n",
    "    # plt.legend(fontsize=12)\n",
    "    plt.tick_params(axis='both', which='major', labelsize=18)\n",
    "    # plt.grid(axis='y', linestyle='--', alpha=0.7)\n",
    "    plt.tight_layout()\n",
    "    plt.savefig(f'plots/b0_{str(b_0)}_n_obs_{str(1000)}.pdf')\n",
    "    plt.close()\n",
    "    # kls.append(np.mean(kl_b_0))\n",
    "    # print(kls)\n",
    "    # plt.plot([0, 1], kls, label=n_sims_label[ii], linestyle=linestyles[ii])\n",
    "    # plt.xlabel(r\"$b_0$\")\n",
    "    # plt.ylabel(r\"KL\")\n",
    "    # plt.legend()"
   ]
  },
  {
   "cell_type": "code",
   "execution_count": 6,
   "metadata": {},
   "outputs": [
    {
     "ename": "NameError",
     "evalue": "name 'kl' is not defined",
     "output_type": "error",
     "traceback": [
      "\u001b[0;31m---------------------------------------------------------------------------\u001b[0m",
      "\u001b[0;31mNameError\u001b[0m                                 Traceback (most recent call last)",
      "Cell \u001b[0;32mIn[6], line 1\u001b[0m\n\u001b[0;32m----> 1\u001b[0m \u001b[43mkl\u001b[49m\n",
      "\u001b[0;31mNameError\u001b[0m: name 'kl' is not defined"
     ]
    }
   ],
   "source": [
    "kl"
   ]
  },
  {
   "cell_type": "code",
   "execution_count": 1,
   "metadata": {},
   "outputs": [
    {
     "ename": "NameError",
     "evalue": "name 'os' is not defined",
     "output_type": "error",
     "traceback": [
      "\u001b[0;31m---------------------------------------------------------------------------\u001b[0m",
      "\u001b[0;31mNameError\u001b[0m                                 Traceback (most recent call last)",
      "Cell \u001b[0;32mIn[1], line 22\u001b[0m\n\u001b[1;32m     20\u001b[0m mean_biases \u001b[38;5;241m=\u001b[39m []\n\u001b[1;32m     21\u001b[0m \u001b[38;5;28;01mfor\u001b[39;00m i \u001b[38;5;129;01min\u001b[39;00m \u001b[38;5;28mrange\u001b[39m(num_seeds):\n\u001b[0;32m---> 22\u001b[0m     dir_path \u001b[38;5;241m=\u001b[39m \u001b[43mos\u001b[49m\u001b[38;5;241m.\u001b[39mpath\u001b[38;5;241m.\u001b[39mjoin(base_dir, \u001b[38;5;124mf\u001b[39m\u001b[38;5;124m\"\u001b[39m\u001b[38;5;124mnpe_n_obs_\u001b[39m\u001b[38;5;132;01m{\u001b[39;00mn_obs\u001b[38;5;132;01m}\u001b[39;00m\u001b[38;5;124m_n_sims_\u001b[39m\u001b[38;5;132;01m{\u001b[39;00mn_sims\u001b[38;5;132;01m}\u001b[39;00m\u001b[38;5;124m_seed_\u001b[39m\u001b[38;5;132;01m{\u001b[39;00m\u001b[38;5;28mstr\u001b[39m(i)\u001b[38;5;132;01m}\u001b[39;00m\u001b[38;5;124m\"\u001b[39m)\n\u001b[1;32m     23\u001b[0m     \u001b[38;5;28;01mif\u001b[39;00m os\u001b[38;5;241m.\u001b[39mpath\u001b[38;5;241m.\u001b[39mexists(dir_path):\n\u001b[1;32m     24\u001b[0m         full_path \u001b[38;5;241m=\u001b[39m os\u001b[38;5;241m.\u001b[39mpath\u001b[38;5;241m.\u001b[39mjoin(dir_path, \u001b[38;5;124m\"\u001b[39m\u001b[38;5;124mposterior_samples.pkl\u001b[39m\u001b[38;5;124m\"\u001b[39m)\n",
      "\u001b[0;31mNameError\u001b[0m: name 'os' is not defined"
     ]
    }
   ],
   "source": [
    "n_obs_list = [100, 500, 1000, 5000]\n",
    "simulation_functions = [\n",
    "    lambda n: n,\n",
    "    lambda n: int(n * math.log(n)),\n",
    "    lambda n: int(n ** (3/2)),\n",
    "    lambda n: n ** 2\n",
    "]\n",
    "n_sims_label = [r'$n$', r'$n \\log(n)$', r'$n^{3/2}$', r'$n^2$']\n",
    "\n",
    "num_seeds = 101\n",
    "true_param = 0.6\n",
    "\n",
    "base_dir = \"../res_02102024/ma2/\"\n",
    "\n",
    "for n_obs in n_obs_list:\n",
    "    all_mean_biases = []\n",
    "    labels = []\n",
    "    for ii, sim_fn in enumerate(simulation_functions):\n",
    "        n_sims = sim_fn(n_obs)\n",
    "        mean_biases = []\n",
    "        for i in range(num_seeds):\n",
    "            dir_path = os.path.join(base_dir, f\"npe_n_obs_{n_obs}_n_sims_{n_sims}_seed_{str(i)}\")\n",
    "            if os.path.exists(dir_path):\n",
    "                full_path = os.path.join(dir_path, \"posterior_samples.pkl\")\n",
    "                try:\n",
    "                    with open(full_path, 'rb') as file:\n",
    "                        posterior_samples = pkl.load(file)\n",
    "                        seed_mean_bias = np.mean(posterior_samples, axis=0)[0] - true_param\n",
    "                        mean_biases.append(seed_mean_bias)\n",
    "                except FileNotFoundError:\n",
    "                    continue\n",
    "        all_mean_biases.append(mean_biases)\n",
    "        labels.append(n_sims_label[ii])\n",
    "\n",
    "    plt.figure(figsize=(10, 6))\n",
    "    plt.boxplot(all_mean_biases, labels=labels, patch_artist=True,\n",
    "                boxprops=dict(facecolor='lightblue', color='blue'),\n",
    "                medianprops=dict(color='red', linewidth=2),\n",
    "                whiskerprops=dict(color='blue'), capprops=dict(color='blue'))\n",
    "    # plt.title(f'Boxplot of Mean Biases for $n_{{\\text{{obs}}}}={n_obs}$', fontsize=16)\n",
    "    plt.xlabel('Number of Simulations', fontsize=24)\n",
    "    plt.ylabel('Mean Bias', fontsize=24)\n",
    "    plt.axhline(y=0, color='red', linestyle='dashed', linewidth=1.5)\n",
    "    # plt.legend(fontsize=12)\n",
    "    plt.tick_params(axis='both', which='major', labelsize=18)\n",
    "    # plt.grid(axis='y', linestyle='--', alpha=0.7)\n",
    "    plt.tight_layout()\n",
    "    plt.savefig(f'plots/ma2_t1_boxplot_n_obs_{n_obs}.pdf')\n",
    "    plt.close()"
   ]
  },
  {
   "cell_type": "code",
   "execution_count": null,
   "metadata": {},
   "outputs": [
    {
     "name": "stderr",
     "output_type": "stream",
     "text": [
      "/var/folders/_z/ms2f3nmn0bb7wk4py9_pz7900000gp/T/ipykernel_2195/3561857824.py:36: MatplotlibDeprecationWarning: The 'labels' parameter of boxplot() has been renamed 'tick_labels' since Matplotlib 3.9; support for the old name will be dropped in 3.11.\n",
      "  plt.boxplot(all_mean_biases, labels=labels, patch_artist=True,\n",
      "/var/folders/_z/ms2f3nmn0bb7wk4py9_pz7900000gp/T/ipykernel_2195/3561857824.py:36: MatplotlibDeprecationWarning: The 'labels' parameter of boxplot() has been renamed 'tick_labels' since Matplotlib 3.9; support for the old name will be dropped in 3.11.\n",
      "  plt.boxplot(all_mean_biases, labels=labels, patch_artist=True,\n",
      "/var/folders/_z/ms2f3nmn0bb7wk4py9_pz7900000gp/T/ipykernel_2195/3561857824.py:36: MatplotlibDeprecationWarning: The 'labels' parameter of boxplot() has been renamed 'tick_labels' since Matplotlib 3.9; support for the old name will be dropped in 3.11.\n",
      "  plt.boxplot(all_mean_biases, labels=labels, patch_artist=True,\n",
      "/var/folders/_z/ms2f3nmn0bb7wk4py9_pz7900000gp/T/ipykernel_2195/3561857824.py:36: MatplotlibDeprecationWarning: The 'labels' parameter of boxplot() has been renamed 'tick_labels' since Matplotlib 3.9; support for the old name will be dropped in 3.11.\n",
      "  plt.boxplot(all_mean_biases, labels=labels, patch_artist=True,\n"
     ]
    }
   ],
   "source": [
    "n_obs_list = [100, 500, 1000, 5000]\n",
    "simulation_functions = [\n",
    "    lambda n: n,\n",
    "    lambda n: int(n * math.log(n)),\n",
    "    lambda n: int(n ** (3/2)),\n",
    "    lambda n: n ** 2\n",
    "]\n",
    "n_sims_label = [r'$n$', r'$n \\log(n)$', r'$n^{3/2}$', r'$n^2$']\n",
    "\n",
    "num_seeds = 101\n",
    "true_param = 0.2\n",
    "\n",
    "base_dir = \"../res_02102024/ma2/\"\n",
    "\n",
    "for n_obs in n_obs_list:\n",
    "    all_mean_biases = []\n",
    "    labels = []\n",
    "    for ii, sim_fn in enumerate(simulation_functions):\n",
    "        n_sims = sim_fn(n_obs)\n",
    "        mean_biases = []\n",
    "        for i in range(num_seeds):\n",
    "            dir_path = os.path.join(base_dir, f\"npe_n_obs_{n_obs}_n_sims_{n_sims}_seed_{str(i)}\")\n",
    "            if os.path.exists(dir_path):\n",
    "                full_path = os.path.join(dir_path, \"posterior_samples.pkl\")\n",
    "                try:\n",
    "                    with open(full_path, 'rb') as file:\n",
    "                        posterior_samples = pkl.load(file)\n",
    "                        seed_mean_bias = np.mean(posterior_samples, axis=0)[1] - true_param\n",
    "                        mean_biases.append(seed_mean_bias)\n",
    "                except FileNotFoundError:\n",
    "                    continue\n",
    "        all_mean_biases.append(mean_biases)\n",
    "        labels.append(n_sims_label[ii])\n",
    "\n",
    "    plt.figure(figsize=(10, 6))\n",
    "    plt.boxplot(all_mean_biases, labels=labels, patch_artist=True,\n",
    "                boxprops=dict(facecolor='lightblue', color='blue'),\n",
    "                medianprops=dict(color='red', linewidth=2),\n",
    "                whiskerprops=dict(color='blue'), capprops=dict(color='blue'))\n",
    "    # plt.title(f'Boxplot of Mean Biases for $n_{{\\text{{obs}}}}={n_obs}$', fontsize=16)\n",
    "    plt.xlabel('Number of Simulations', fontsize=24)\n",
    "    plt.ylabel('Mean Bias', fontsize=24)\n",
    "    plt.axhline(y=0, color='red', linestyle='dashed', linewidth=1.5)\n",
    "    # plt.legend(fontsize=12)\n",
    "    plt.tick_params(axis='both', which='major', labelsize=18)\n",
    "    # plt.grid(axis='y', linestyle='--', alpha=0.7)\n",
    "    plt.tight_layout()\n",
    "    plt.savefig(f'plots/ma2_t2_boxplot_n_obs_{n_obs}.pdf')\n",
    "    plt.close()"
   ]
  }
 ],
 "metadata": {
  "kernelspec": {
   "display_name": ".venv",
   "language": "python",
   "name": "python3"
  },
  "language_info": {
   "codemirror_mode": {
    "name": "ipython",
    "version": 3
   },
   "file_extension": ".py",
   "mimetype": "text/x-python",
   "name": "python",
   "nbconvert_exporter": "python",
   "pygments_lexer": "ipython3",
   "version": "3.11.5"
  }
 },
 "nbformat": 4,
 "nbformat_minor": 2
}
