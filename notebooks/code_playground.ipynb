{
 "cells": [
  {
   "cell_type": "code",
   "execution_count": 1,
   "metadata": {},
   "outputs": [],
   "source": [
    "from npe_convergence.metrics import rbf_kernel, median_heuristic, MMD_unweighted"
   ]
  },
  {
   "cell_type": "code",
   "execution_count": 2,
   "metadata": {},
   "outputs": [
    {
     "name": "stdout",
     "output_type": "stream",
     "text": [
      "/Users/ryankelly/python_projects/npe_convergence/notebooks\n"
     ]
    }
   ],
   "source": [
    "import os\n",
    "print(os.getcwd())"
   ]
  },
  {
   "cell_type": "code",
   "execution_count": 3,
   "metadata": {},
   "outputs": [],
   "source": [
    "import pickle as pkl\n",
    "\n",
    "with open(\"../res/mak/npe_n_obs_1000_n_sims_100000/posterior_samples.pkl\", \"rb\") as f:\n",
    "    posterior_samples = pkl.load(f)\n",
    "\n",
    "with open(\"../res/mak/npe_n_obs_1000_n_sims_100000/true_posterior_samples.pkl\", \"rb\") as f:\n",
    "    true_posterior_samples = pkl.load(f)"
   ]
  },
  {
   "cell_type": "code",
   "execution_count": 9,
   "metadata": {},
   "outputs": [],
   "source": [
    "posterior_samples_reduced = posterior_samples[::100]\n",
    "true_posterior_samples_reduced = true_posterior_samples[::100]"
   ]
  },
  {
   "cell_type": "code",
   "execution_count": 15,
   "metadata": {},
   "outputs": [
    {
     "data": {
      "text/plain": [
       "(200000, 10)"
      ]
     },
     "execution_count": 15,
     "metadata": {},
     "output_type": "execute_result"
    }
   ],
   "source": [
    "true_posterior_samples.shape"
   ]
  },
  {
   "cell_type": "code",
   "execution_count": 16,
   "metadata": {},
   "outputs": [
    {
     "ename": "KeyboardInterrupt",
     "evalue": "",
     "output_type": "error",
     "traceback": [
      "\u001b[0;31m---------------------------------------------------------------------------\u001b[0m",
      "\u001b[0;31mKeyboardInterrupt\u001b[0m                         Traceback (most recent call last)",
      "Cell \u001b[0;32mIn[16], line 1\u001b[0m\n\u001b[0;32m----> 1\u001b[0m \u001b[43mMMD_unweighted\u001b[49m\u001b[43m(\u001b[49m\u001b[43mposterior_samples\u001b[49m\u001b[38;5;241;43m.\u001b[39;49m\u001b[43mT\u001b[49m\u001b[43m,\u001b[49m\u001b[43m \u001b[49m\u001b[43mtrue_posterior_samples\u001b[49m\u001b[38;5;241;43m.\u001b[39;49m\u001b[43mT\u001b[49m\u001b[43m)\u001b[49m\n",
      "File \u001b[0;32m~/python_projects/npe_convergence/npe_convergence/metrics.py:23\u001b[0m, in \u001b[0;36mMMD_unweighted\u001b[0;34m(simulated, observed, lengthscale)\u001b[0m\n\u001b[1;32m     20\u001b[0m simulated \u001b[38;5;241m=\u001b[39m simulated[:, :l]  \u001b[38;5;66;03m# Take only the first l samples\u001b[39;00m\n\u001b[1;32m     22\u001b[0m \u001b[38;5;66;03m# Compute pairwise kernel values for simulated statistics\u001b[39;00m\n\u001b[0;32m---> 23\u001b[0m k_simulated \u001b[38;5;241m=\u001b[39m jnp\u001b[38;5;241m.\u001b[39marray(\u001b[43m[\u001b[49m\u001b[43m[\u001b[49m\u001b[43mrbf_kernel\u001b[49m\u001b[43m(\u001b[49m\u001b[43mx\u001b[49m\u001b[43m,\u001b[49m\u001b[43m \u001b[49m\u001b[43my\u001b[49m\u001b[43m,\u001b[49m\u001b[43m \u001b[49m\u001b[43mlengthscale\u001b[49m\u001b[43m)\u001b[49m\u001b[43m \u001b[49m\u001b[38;5;28;43;01mfor\u001b[39;49;00m\u001b[43m \u001b[49m\u001b[43mx\u001b[49m\u001b[43m \u001b[49m\u001b[38;5;129;43;01min\u001b[39;49;00m\u001b[43m \u001b[49m\u001b[43msimulated\u001b[49m\u001b[38;5;241;43m.\u001b[39;49m\u001b[43mT\u001b[49m\u001b[43m]\u001b[49m\u001b[43m \u001b[49m\u001b[38;5;28;43;01mfor\u001b[39;49;00m\u001b[43m \u001b[49m\u001b[43my\u001b[49m\u001b[43m \u001b[49m\u001b[38;5;129;43;01min\u001b[39;49;00m\u001b[43m \u001b[49m\u001b[43msimulated\u001b[49m\u001b[38;5;241;43m.\u001b[39;49m\u001b[43mT\u001b[49m\u001b[43m]\u001b[49m)\n\u001b[1;32m     25\u001b[0m \u001b[38;5;66;03m# Compute kernel values between simulated and observed statistics\u001b[39;00m\n\u001b[1;32m     26\u001b[0m k_sim_obs \u001b[38;5;241m=\u001b[39m jnp\u001b[38;5;241m.\u001b[39marray([rbf_kernel(x, observed, lengthscale) \u001b[38;5;28;01mfor\u001b[39;00m x \u001b[38;5;129;01min\u001b[39;00m simulated\u001b[38;5;241m.\u001b[39mT])\n",
      "File \u001b[0;32m~/python_projects/npe_convergence/npe_convergence/metrics.py:23\u001b[0m, in \u001b[0;36m<listcomp>\u001b[0;34m(.0)\u001b[0m\n\u001b[1;32m     20\u001b[0m simulated \u001b[38;5;241m=\u001b[39m simulated[:, :l]  \u001b[38;5;66;03m# Take only the first l samples\u001b[39;00m\n\u001b[1;32m     22\u001b[0m \u001b[38;5;66;03m# Compute pairwise kernel values for simulated statistics\u001b[39;00m\n\u001b[0;32m---> 23\u001b[0m k_simulated \u001b[38;5;241m=\u001b[39m jnp\u001b[38;5;241m.\u001b[39marray([\u001b[43m[\u001b[49m\u001b[43mrbf_kernel\u001b[49m\u001b[43m(\u001b[49m\u001b[43mx\u001b[49m\u001b[43m,\u001b[49m\u001b[43m \u001b[49m\u001b[43my\u001b[49m\u001b[43m,\u001b[49m\u001b[43m \u001b[49m\u001b[43mlengthscale\u001b[49m\u001b[43m)\u001b[49m\u001b[43m \u001b[49m\u001b[38;5;28;43;01mfor\u001b[39;49;00m\u001b[43m \u001b[49m\u001b[43mx\u001b[49m\u001b[43m \u001b[49m\u001b[38;5;129;43;01min\u001b[39;49;00m\u001b[43m \u001b[49m\u001b[43msimulated\u001b[49m\u001b[38;5;241;43m.\u001b[39;49m\u001b[43mT\u001b[49m\u001b[43m]\u001b[49m \u001b[38;5;28;01mfor\u001b[39;00m y \u001b[38;5;129;01min\u001b[39;00m simulated\u001b[38;5;241m.\u001b[39mT])\n\u001b[1;32m     25\u001b[0m \u001b[38;5;66;03m# Compute kernel values between simulated and observed statistics\u001b[39;00m\n\u001b[1;32m     26\u001b[0m k_sim_obs \u001b[38;5;241m=\u001b[39m jnp\u001b[38;5;241m.\u001b[39marray([rbf_kernel(x, observed, lengthscale) \u001b[38;5;28;01mfor\u001b[39;00m x \u001b[38;5;129;01min\u001b[39;00m simulated\u001b[38;5;241m.\u001b[39mT])\n",
      "File \u001b[0;32m~/python_projects/npe_convergence/npe_convergence/metrics.py:23\u001b[0m, in \u001b[0;36m<listcomp>\u001b[0;34m(.0)\u001b[0m\n\u001b[1;32m     20\u001b[0m simulated \u001b[38;5;241m=\u001b[39m simulated[:, :l]  \u001b[38;5;66;03m# Take only the first l samples\u001b[39;00m\n\u001b[1;32m     22\u001b[0m \u001b[38;5;66;03m# Compute pairwise kernel values for simulated statistics\u001b[39;00m\n\u001b[0;32m---> 23\u001b[0m k_simulated \u001b[38;5;241m=\u001b[39m jnp\u001b[38;5;241m.\u001b[39marray([[\u001b[43mrbf_kernel\u001b[49m\u001b[43m(\u001b[49m\u001b[43mx\u001b[49m\u001b[43m,\u001b[49m\u001b[43m \u001b[49m\u001b[43my\u001b[49m\u001b[43m,\u001b[49m\u001b[43m \u001b[49m\u001b[43mlengthscale\u001b[49m\u001b[43m)\u001b[49m \u001b[38;5;28;01mfor\u001b[39;00m x \u001b[38;5;129;01min\u001b[39;00m simulated\u001b[38;5;241m.\u001b[39mT] \u001b[38;5;28;01mfor\u001b[39;00m y \u001b[38;5;129;01min\u001b[39;00m simulated\u001b[38;5;241m.\u001b[39mT])\n\u001b[1;32m     25\u001b[0m \u001b[38;5;66;03m# Compute kernel values between simulated and observed statistics\u001b[39;00m\n\u001b[1;32m     26\u001b[0m k_sim_obs \u001b[38;5;241m=\u001b[39m jnp\u001b[38;5;241m.\u001b[39marray([rbf_kernel(x, observed, lengthscale) \u001b[38;5;28;01mfor\u001b[39;00m x \u001b[38;5;129;01min\u001b[39;00m simulated\u001b[38;5;241m.\u001b[39mT])\n",
      "File \u001b[0;32m~/python_projects/npe_convergence/npe_convergence/metrics.py:9\u001b[0m, in \u001b[0;36mrbf_kernel\u001b[0;34m(x, y, lengthscale)\u001b[0m\n\u001b[1;32m      8\u001b[0m \u001b[38;5;28;01mdef\u001b[39;00m \u001b[38;5;21mrbf_kernel\u001b[39m(x, y, lengthscale\u001b[38;5;241m=\u001b[39m\u001b[38;5;241m1.0\u001b[39m):\n\u001b[0;32m----> 9\u001b[0m     \u001b[38;5;28;01mreturn\u001b[39;00m jnp\u001b[38;5;241m.\u001b[39mexp(\u001b[38;5;241;43m-\u001b[39;49m\u001b[43mjnp\u001b[49m\u001b[38;5;241;43m.\u001b[39;49m\u001b[43msum\u001b[49m\u001b[43m(\u001b[49m\u001b[43m(\u001b[49m\u001b[43mx\u001b[49m\u001b[43m \u001b[49m\u001b[38;5;241;43m-\u001b[39;49m\u001b[43m \u001b[49m\u001b[43my\u001b[49m\u001b[43m)\u001b[49m\u001b[43m \u001b[49m\u001b[38;5;241;43m*\u001b[39;49m\u001b[38;5;241;43m*\u001b[39;49m\u001b[43m \u001b[49m\u001b[38;5;241;43m2\u001b[39;49m\u001b[43m)\u001b[49m\u001b[43m \u001b[49m\u001b[38;5;241;43m/\u001b[39;49m\u001b[43m \u001b[49m\u001b[43m(\u001b[49m\u001b[38;5;241;43m2\u001b[39;49m\u001b[43m \u001b[49m\u001b[38;5;241;43m*\u001b[39;49m\u001b[43m \u001b[49m\u001b[43mlengthscale\u001b[49m\u001b[43m \u001b[49m\u001b[38;5;241;43m*\u001b[39;49m\u001b[38;5;241;43m*\u001b[39;49m\u001b[43m \u001b[49m\u001b[38;5;241;43m2\u001b[39;49m\u001b[43m)\u001b[49m)\n",
      "File \u001b[0;32m~/python_projects/npe_convergence/.venv/lib/python3.11/site-packages/jax/_src/numpy/array_methods.py:267\u001b[0m, in \u001b[0;36m_defer_to_unrecognized_arg.<locals>.deferring_binary_op\u001b[0;34m(self, other)\u001b[0m\n\u001b[1;32m    265\u001b[0m \u001b[38;5;28;01mdef\u001b[39;00m \u001b[38;5;21m_defer_to_unrecognized_arg\u001b[39m(opchar, binary_op, swap\u001b[38;5;241m=\u001b[39m\u001b[38;5;28;01mFalse\u001b[39;00m):\n\u001b[1;32m    266\u001b[0m   \u001b[38;5;66;03m# Ensure that other array types have the chance to override arithmetic.\u001b[39;00m\n\u001b[0;32m--> 267\u001b[0m   \u001b[38;5;28;01mdef\u001b[39;00m \u001b[38;5;21mdeferring_binary_op\u001b[39m(\u001b[38;5;28mself\u001b[39m, other):\n\u001b[1;32m    268\u001b[0m     \u001b[38;5;28;01mif\u001b[39;00m \u001b[38;5;28mhasattr\u001b[39m(other, \u001b[38;5;124m'\u001b[39m\u001b[38;5;124m__jax_array__\u001b[39m\u001b[38;5;124m'\u001b[39m):\n\u001b[1;32m    269\u001b[0m       other \u001b[38;5;241m=\u001b[39m other\u001b[38;5;241m.\u001b[39m__jax_array__()\n",
      "\u001b[0;31mKeyboardInterrupt\u001b[0m: "
     ]
    }
   ],
   "source": [
    "MMD_unweighted(posterior_samples.T, true_posterior_samples.T)"
   ]
  }
 ],
 "metadata": {
  "kernelspec": {
   "display_name": ".venv",
   "language": "python",
   "name": "python3"
  },
  "language_info": {
   "codemirror_mode": {
    "name": "ipython",
    "version": 3
   },
   "file_extension": ".py",
   "mimetype": "text/x-python",
   "name": "python",
   "nbconvert_exporter": "python",
   "pygments_lexer": "ipython3",
   "version": "3.11.5"
  }
 },
 "nbformat": 4,
 "nbformat_minor": 2
}
